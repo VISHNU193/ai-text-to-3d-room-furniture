{
  "cells": [
    {
      "cell_type": "markdown",
      "metadata": {
        "id": "view-in-github",
        "colab_type": "text"
      },
      "source": [
        "<a href=\"https://colab.research.google.com/github/VISHNU193/ai-text-to-3d-room-furniture/blob/main/ai_textTo3dFurniture.ipynb\" target=\"_parent\"><img src=\"https://colab.research.google.com/assets/colab-badge.svg\" alt=\"Open In Colab\"/></a>"
      ]
    },
    {
      "cell_type": "code",
      "execution_count": null,
      "metadata": {
        "id": "jxD3GLSE7TDi"
      },
      "outputs": [],
      "source": [
        "import numpy as np\n",
        "import tensorflow as tf\n",
        "from tensorflow.keras.models import Model\n",
        "from tensorflow.keras.layers import Input, Conv1D, MaxPooling1D, Embedding, GlobalMaxPooling1D, Dense\n",
        "from tensorflow.keras.preprocessing.text import Tokenizer\n",
        "from tensorflow.keras.preprocessing.sequence import pad_sequences\n",
        "from tensorflow.keras.optimizers import Adam"
      ]
    },
    {
      "cell_type": "code",
      "source": [
        "prompt = \"a bookshelf\"\n",
        "\n",
        "texts = [\n",
        "    \"The sofa is comfortable and stylish.\",\n",
        "    \"The coffee table is made of wood.\",\n",
        "    \"The dining chair has a modern design.\",\n",
        "    \"I love the armchair with the soft cushions.\",\n",
        "    \"The bed frame is sturdy and elegant.\"\n",
        "]"
      ],
      "metadata": {
        "id": "wRnRQA6MUmN6"
      },
      "execution_count": null,
      "outputs": []
    },
    {
      "cell_type": "code",
      "source": [
        "# Parameters\n",
        "max_len = 20  # Maximum sequence length for padding\n",
        "embedding_dim = 100  # Dimensionality of the word embeddings\n",
        "num_filters = 64  # Number of filters in the CNN layer\n",
        "kernel_size = 3  # Size of the convolutional filter\n",
        "pool_size = 2  # Size of the pooling window\n",
        "num_classes = 2  # For binary classification or feature extraction"
      ],
      "metadata": {
        "id": "nkmsPbiAUqKR"
      },
      "execution_count": null,
      "outputs": []
    },
    {
      "cell_type": "code",
      "source": [
        "# Step 1: Tokenize the text\n",
        "tokenizer = Tokenizer()\n",
        "tokenizer.fit_on_texts(texts)\n",
        "sequences = tokenizer.texts_to_sequences(texts)\n",
        "word_index = tokenizer.word_index"
      ],
      "metadata": {
        "id": "HOfcSd9PUzQS"
      },
      "execution_count": null,
      "outputs": []
    },
    {
      "cell_type": "code",
      "source": [
        "# Step 2: Pad the sequences to ensure uniform input length\n",
        "X = pad_sequences(sequences, maxlen=max_len)"
      ],
      "metadata": {
        "id": "rkuvDYBOUrSC"
      },
      "execution_count": null,
      "outputs": []
    },
    {
      "cell_type": "code",
      "source": [
        "# Step 3: Load pre-trained embeddings\n",
        "\n",
        "embedding_matrix = np.random.random((len(word_index) + 1, embedding_dim))"
      ],
      "metadata": {
        "id": "FLPXtByAU3Xi"
      },
      "execution_count": null,
      "outputs": []
    },
    {
      "cell_type": "code",
      "source": [
        "# Step 4: Define the CNN model\n",
        "input_layer = Input(shape=(max_len,))   #it takes text as input\n",
        "embedding_layer = Embedding(input_dim=len(word_index) + 1, output_dim=embedding_dim,   #(convert the text to vectors)\n",
        "                            weights=[embedding_matrix], input_length=max_len, trainable=False)(input_layer)\n",
        "\n",
        "\n",
        "# Add convolutional layers   (uses filters to extract the features from the text)\n",
        "conv_layer = Conv1D(filters=num_filters, kernel_size=kernel_size, activation='relu')(embedding_layer)\n",
        "pooling_layer = MaxPooling1D(pool_size=pool_size)(conv_layer)\n",
        "# Use global max pooling to reduce dimensions\n",
        "global_pool_layer = GlobalMaxPooling1D()(pooling_layer)  #reduces dimenstionality\n",
        "\n",
        "# Dense layer for classification or feature extraction   further reduces\n",
        "dense_layer = Dense(128, activation='relu')(global_pool_layer)\n",
        "output_layer = Dense(num_classes, activation='softmax')(dense_layer)\n",
        "\n",
        "# Define the model\n",
        "model = Model(inputs=input_layer, outputs=output_layer)\n",
        "\n",
        "# Compile the model\n",
        "model.compile(optimizer=Adam(), loss='categorical_crossentropy', metrics=['accuracy'])\n",
        "\n",
        "# Summary of the model architecture\n",
        "model.summary()"
      ],
      "metadata": {
        "colab": {
          "base_uri": "https://localhost:8080/",
          "height": 435
        },
        "id": "tEP5Se8oVFTx",
        "outputId": "abbc320e-1c26-4c00-c4ed-382e05f4836c"
      },
      "execution_count": null,
      "outputs": [
        {
          "output_type": "stream",
          "name": "stderr",
          "text": [
            "/usr/local/lib/python3.10/dist-packages/keras/src/layers/core/embedding.py:90: UserWarning: Argument `input_length` is deprecated. Just remove it.\n",
            "  warnings.warn(\n"
          ]
        },
        {
          "output_type": "display_data",
          "data": {
            "text/plain": [
              "\u001b[1mModel: \"functional_2\"\u001b[0m\n"
            ],
            "text/html": [
              "<pre style=\"white-space:pre;overflow-x:auto;line-height:normal;font-family:Menlo,'DejaVu Sans Mono',consolas,'Courier New',monospace\"><span style=\"font-weight: bold\">Model: \"functional_2\"</span>\n",
              "</pre>\n"
            ]
          },
          "metadata": {}
        },
        {
          "output_type": "display_data",
          "data": {
            "text/plain": [
              "┏━━━━━━━━━━━━━━━━━━━━━━━━━━━━━━━━━━━━━━┳━━━━━━━━━━━━━━━━━━━━━━━━━━━━━┳━━━━━━━━━━━━━━━━━┓\n",
              "┃\u001b[1m \u001b[0m\u001b[1mLayer (type)                        \u001b[0m\u001b[1m \u001b[0m┃\u001b[1m \u001b[0m\u001b[1mOutput Shape               \u001b[0m\u001b[1m \u001b[0m┃\u001b[1m \u001b[0m\u001b[1m        Param #\u001b[0m\u001b[1m \u001b[0m┃\n",
              "┡━━━━━━━━━━━━━━━━━━━━━━━━━━━━━━━━━━━━━━╇━━━━━━━━━━━━━━━━━━━━━━━━━━━━━╇━━━━━━━━━━━━━━━━━┩\n",
              "│ input_layer_1 (\u001b[38;5;33mInputLayer\u001b[0m)           │ (\u001b[38;5;45mNone\u001b[0m, \u001b[38;5;34m20\u001b[0m)                  │               \u001b[38;5;34m0\u001b[0m │\n",
              "├──────────────────────────────────────┼─────────────────────────────┼─────────────────┤\n",
              "│ embedding_1 (\u001b[38;5;33mEmbedding\u001b[0m)              │ (\u001b[38;5;45mNone\u001b[0m, \u001b[38;5;34m20\u001b[0m, \u001b[38;5;34m100\u001b[0m)             │           \u001b[38;5;34m2,800\u001b[0m │\n",
              "├──────────────────────────────────────┼─────────────────────────────┼─────────────────┤\n",
              "│ conv1d_1 (\u001b[38;5;33mConv1D\u001b[0m)                    │ (\u001b[38;5;45mNone\u001b[0m, \u001b[38;5;34m18\u001b[0m, \u001b[38;5;34m64\u001b[0m)              │          \u001b[38;5;34m19,264\u001b[0m │\n",
              "├──────────────────────────────────────┼─────────────────────────────┼─────────────────┤\n",
              "│ max_pooling1d_1 (\u001b[38;5;33mMaxPooling1D\u001b[0m)       │ (\u001b[38;5;45mNone\u001b[0m, \u001b[38;5;34m9\u001b[0m, \u001b[38;5;34m64\u001b[0m)               │               \u001b[38;5;34m0\u001b[0m │\n",
              "├──────────────────────────────────────┼─────────────────────────────┼─────────────────┤\n",
              "│ global_max_pooling1d_1               │ (\u001b[38;5;45mNone\u001b[0m, \u001b[38;5;34m64\u001b[0m)                  │               \u001b[38;5;34m0\u001b[0m │\n",
              "│ (\u001b[38;5;33mGlobalMaxPooling1D\u001b[0m)                 │                             │                 │\n",
              "├──────────────────────────────────────┼─────────────────────────────┼─────────────────┤\n",
              "│ dense_2 (\u001b[38;5;33mDense\u001b[0m)                      │ (\u001b[38;5;45mNone\u001b[0m, \u001b[38;5;34m128\u001b[0m)                 │           \u001b[38;5;34m8,320\u001b[0m │\n",
              "├──────────────────────────────────────┼─────────────────────────────┼─────────────────┤\n",
              "│ dense_3 (\u001b[38;5;33mDense\u001b[0m)                      │ (\u001b[38;5;45mNone\u001b[0m, \u001b[38;5;34m2\u001b[0m)                   │             \u001b[38;5;34m258\u001b[0m │\n",
              "└──────────────────────────────────────┴─────────────────────────────┴─────────────────┘\n"
            ],
            "text/html": [
              "<pre style=\"white-space:pre;overflow-x:auto;line-height:normal;font-family:Menlo,'DejaVu Sans Mono',consolas,'Courier New',monospace\">┏━━━━━━━━━━━━━━━━━━━━━━━━━━━━━━━━━━━━━━┳━━━━━━━━━━━━━━━━━━━━━━━━━━━━━┳━━━━━━━━━━━━━━━━━┓\n",
              "┃<span style=\"font-weight: bold\"> Layer (type)                         </span>┃<span style=\"font-weight: bold\"> Output Shape                </span>┃<span style=\"font-weight: bold\">         Param # </span>┃\n",
              "┡━━━━━━━━━━━━━━━━━━━━━━━━━━━━━━━━━━━━━━╇━━━━━━━━━━━━━━━━━━━━━━━━━━━━━╇━━━━━━━━━━━━━━━━━┩\n",
              "│ input_layer_1 (<span style=\"color: #0087ff; text-decoration-color: #0087ff\">InputLayer</span>)           │ (<span style=\"color: #00d7ff; text-decoration-color: #00d7ff\">None</span>, <span style=\"color: #00af00; text-decoration-color: #00af00\">20</span>)                  │               <span style=\"color: #00af00; text-decoration-color: #00af00\">0</span> │\n",
              "├──────────────────────────────────────┼─────────────────────────────┼─────────────────┤\n",
              "│ embedding_1 (<span style=\"color: #0087ff; text-decoration-color: #0087ff\">Embedding</span>)              │ (<span style=\"color: #00d7ff; text-decoration-color: #00d7ff\">None</span>, <span style=\"color: #00af00; text-decoration-color: #00af00\">20</span>, <span style=\"color: #00af00; text-decoration-color: #00af00\">100</span>)             │           <span style=\"color: #00af00; text-decoration-color: #00af00\">2,800</span> │\n",
              "├──────────────────────────────────────┼─────────────────────────────┼─────────────────┤\n",
              "│ conv1d_1 (<span style=\"color: #0087ff; text-decoration-color: #0087ff\">Conv1D</span>)                    │ (<span style=\"color: #00d7ff; text-decoration-color: #00d7ff\">None</span>, <span style=\"color: #00af00; text-decoration-color: #00af00\">18</span>, <span style=\"color: #00af00; text-decoration-color: #00af00\">64</span>)              │          <span style=\"color: #00af00; text-decoration-color: #00af00\">19,264</span> │\n",
              "├──────────────────────────────────────┼─────────────────────────────┼─────────────────┤\n",
              "│ max_pooling1d_1 (<span style=\"color: #0087ff; text-decoration-color: #0087ff\">MaxPooling1D</span>)       │ (<span style=\"color: #00d7ff; text-decoration-color: #00d7ff\">None</span>, <span style=\"color: #00af00; text-decoration-color: #00af00\">9</span>, <span style=\"color: #00af00; text-decoration-color: #00af00\">64</span>)               │               <span style=\"color: #00af00; text-decoration-color: #00af00\">0</span> │\n",
              "├──────────────────────────────────────┼─────────────────────────────┼─────────────────┤\n",
              "│ global_max_pooling1d_1               │ (<span style=\"color: #00d7ff; text-decoration-color: #00d7ff\">None</span>, <span style=\"color: #00af00; text-decoration-color: #00af00\">64</span>)                  │               <span style=\"color: #00af00; text-decoration-color: #00af00\">0</span> │\n",
              "│ (<span style=\"color: #0087ff; text-decoration-color: #0087ff\">GlobalMaxPooling1D</span>)                 │                             │                 │\n",
              "├──────────────────────────────────────┼─────────────────────────────┼─────────────────┤\n",
              "│ dense_2 (<span style=\"color: #0087ff; text-decoration-color: #0087ff\">Dense</span>)                      │ (<span style=\"color: #00d7ff; text-decoration-color: #00d7ff\">None</span>, <span style=\"color: #00af00; text-decoration-color: #00af00\">128</span>)                 │           <span style=\"color: #00af00; text-decoration-color: #00af00\">8,320</span> │\n",
              "├──────────────────────────────────────┼─────────────────────────────┼─────────────────┤\n",
              "│ dense_3 (<span style=\"color: #0087ff; text-decoration-color: #0087ff\">Dense</span>)                      │ (<span style=\"color: #00d7ff; text-decoration-color: #00d7ff\">None</span>, <span style=\"color: #00af00; text-decoration-color: #00af00\">2</span>)                   │             <span style=\"color: #00af00; text-decoration-color: #00af00\">258</span> │\n",
              "└──────────────────────────────────────┴─────────────────────────────┴─────────────────┘\n",
              "</pre>\n"
            ]
          },
          "metadata": {}
        },
        {
          "output_type": "display_data",
          "data": {
            "text/plain": [
              "\u001b[1m Total params: \u001b[0m\u001b[38;5;34m30,642\u001b[0m (119.70 KB)\n"
            ],
            "text/html": [
              "<pre style=\"white-space:pre;overflow-x:auto;line-height:normal;font-family:Menlo,'DejaVu Sans Mono',consolas,'Courier New',monospace\"><span style=\"font-weight: bold\"> Total params: </span><span style=\"color: #00af00; text-decoration-color: #00af00\">30,642</span> (119.70 KB)\n",
              "</pre>\n"
            ]
          },
          "metadata": {}
        },
        {
          "output_type": "display_data",
          "data": {
            "text/plain": [
              "\u001b[1m Trainable params: \u001b[0m\u001b[38;5;34m27,842\u001b[0m (108.76 KB)\n"
            ],
            "text/html": [
              "<pre style=\"white-space:pre;overflow-x:auto;line-height:normal;font-family:Menlo,'DejaVu Sans Mono',consolas,'Courier New',monospace\"><span style=\"font-weight: bold\"> Trainable params: </span><span style=\"color: #00af00; text-decoration-color: #00af00\">27,842</span> (108.76 KB)\n",
              "</pre>\n"
            ]
          },
          "metadata": {}
        },
        {
          "output_type": "display_data",
          "data": {
            "text/plain": [
              "\u001b[1m Non-trainable params: \u001b[0m\u001b[38;5;34m2,800\u001b[0m (10.94 KB)\n"
            ],
            "text/html": [
              "<pre style=\"white-space:pre;overflow-x:auto;line-height:normal;font-family:Menlo,'DejaVu Sans Mono',consolas,'Courier New',monospace\"><span style=\"font-weight: bold\"> Non-trainable params: </span><span style=\"color: #00af00; text-decoration-color: #00af00\">2,800</span> (10.94 KB)\n",
              "</pre>\n"
            ]
          },
          "metadata": {}
        }
      ]
    },
    {
      "cell_type": "code",
      "source": [
        "# Step 5: Train the model (or extract features)\n",
        "\n",
        "y_train = np.array([[1, 0], [1, 0], [0, 1], [1, 0], [0, 1]])\n",
        "model.fit(X, y_train, epochs=5)"
      ],
      "metadata": {
        "colab": {
          "base_uri": "https://localhost:8080/"
        },
        "id": "UcuXE9dHVWuY",
        "outputId": "051f06d6-54a5-416c-db7f-f16276bb8366"
      },
      "execution_count": null,
      "outputs": [
        {
          "output_type": "stream",
          "name": "stdout",
          "text": [
            "Epoch 1/5\n",
            "\u001b[1m1/1\u001b[0m \u001b[32m━━━━━━━━━━━━━━━━━━━━\u001b[0m\u001b[37m\u001b[0m \u001b[1m2s\u001b[0m 2s/step - accuracy: 0.6000 - loss: 0.7212\n",
            "Epoch 2/5\n",
            "\u001b[1m1/1\u001b[0m \u001b[32m━━━━━━━━━━━━━━━━━━━━\u001b[0m\u001b[37m\u001b[0m \u001b[1m0s\u001b[0m 143ms/step - accuracy: 0.6000 - loss: 0.5982\n",
            "Epoch 3/5\n",
            "\u001b[1m1/1\u001b[0m \u001b[32m━━━━━━━━━━━━━━━━━━━━\u001b[0m\u001b[37m\u001b[0m \u001b[1m0s\u001b[0m 57ms/step - accuracy: 0.6000 - loss: 0.5216\n",
            "Epoch 4/5\n",
            "\u001b[1m1/1\u001b[0m \u001b[32m━━━━━━━━━━━━━━━━━━━━\u001b[0m\u001b[37m\u001b[0m \u001b[1m0s\u001b[0m 24ms/step - accuracy: 1.0000 - loss: 0.4605\n",
            "Epoch 5/5\n",
            "\u001b[1m1/1\u001b[0m \u001b[32m━━━━━━━━━━━━━━━━━━━━\u001b[0m\u001b[37m\u001b[0m \u001b[1m0s\u001b[0m 23ms/step - accuracy: 1.0000 - loss: 0.4047\n"
          ]
        },
        {
          "output_type": "execute_result",
          "data": {
            "text/plain": [
              "<keras.src.callbacks.history.History at 0x7f072c157190>"
            ]
          },
          "metadata": {},
          "execution_count": 23
        }
      ]
    },
    {
      "cell_type": "code",
      "source": [
        "# Step 6: Feature extraction\n",
        "# We use the model up to the last dense layer to extract features.\n",
        "feature_extractor = Model(inputs=input_layer, outputs=global_pool_layer)\n",
        "features = feature_extractor.predict(X)\n",
        "\n",
        "print(\"Extracted Features:\", features)"
      ],
      "metadata": {
        "colab": {
          "base_uri": "https://localhost:8080/"
        },
        "id": "L47LgLgqVa_A",
        "outputId": "e723066d-b1c8-4058-a443-ba596580ff38"
      },
      "execution_count": null,
      "outputs": [
        {
          "output_type": "stream",
          "name": "stdout",
          "text": [
            "\u001b[1m1/1\u001b[0m \u001b[32m━━━━━━━━━━━━━━━━━━━━\u001b[0m\u001b[37m\u001b[0m \u001b[1m0s\u001b[0m 103ms/step\n",
            "Extracted Features: [[0.8579904  0.         0.84438014 0.24362385 0.9416987  0.\n",
            "  0.58927816 1.2330464  0.570373   0.         0.8199944  0.0761911\n",
            "  0.53566563 0.85701823 0.         1.338826   0.         0.\n",
            "  0.58362424 0.         0.75690717 0.         0.12177208 0.\n",
            "  0.43856707 0.         0.73598    0.23834656 0.         0.\n",
            "  0.8073627  0.35936067 1.0743966  0.64308786 0.4568168  0.8663199\n",
            "  0.820102   0.73997915 1.0766374  0.73505646 0.36141166 0.78407484\n",
            "  0.5465213  0.         1.320176   0.817257   0.7958217  0.5546915\n",
            "  0.3235797  1.1808324  1.07332    0.         0.         0.41424534\n",
            "  0.20478374 0.04249731 0.         0.         0.5658072  0.5435004\n",
            "  0.953198   0.83658123 0.7971029  1.6962273 ]\n",
            " [0.6841751  0.         1.0734409  0.28313476 0.67891484 0.\n",
            "  0.63860434 1.0897424  0.6862547  0.         0.8958914  0.09105913\n",
            "  0.20246251 0.7140173  0.         1.338826   0.         0.\n",
            "  0.52808803 0.         1.111542   0.         0.         0.\n",
            "  0.1761267  0.10163125 0.73598    0.30250207 0.         0.95368004\n",
            "  1.2564455  0.3356391  0.9008656  0.502237   0.20936605 0.68967545\n",
            "  0.36654073 1.0871658  1.1132442  0.89230025 0.32279965 0.473618\n",
            "  0.60108477 0.         1.320176   0.817257   0.7461942  0.5874204\n",
            "  0.550343   1.1808324  0.87089    0.         0.         0.5613172\n",
            "  0.26339924 0.04249731 0.         0.         0.5658072  0.41404185\n",
            "  0.41117683 0.9163051  0.98727393 1.336881  ]\n",
            " [0.72771037 0.         0.3493756  0.47204122 0.67298114 0.35890254\n",
            "  0.58927816 1.442751   1.2895625  0.         0.98704463 0.5758308\n",
            "  0.         1.285079   0.         1.338826   0.         0.\n",
            "  0.27762344 0.         0.6478797  0.         0.         0.\n",
            "  0.13519631 0.         0.73598    0.46230716 0.         0.\n",
            "  0.5942011  0.37547848 0.7216801  0.5814823  0.6868067  0.607597\n",
            "  0.36654073 0.824506   1.2436174  0.64296514 0.30875298 0.48599398\n",
            "  0.8445364  0.         1.320176   0.817257   0.56567216 0.7111849\n",
            "  0.04332426 1.1808324  0.948566   0.         0.28428358 0.55538857\n",
            "  0.04389861 0.04249731 0.         0.         0.5658072  0.17054373\n",
            "  0.41117683 0.8275908  0.93463707 1.336881  ]\n",
            " [0.226574   0.         0.47163576 0.38503078 0.88724154 0.\n",
            "  1.106969   0.98069733 0.8581526  0.         1.0565915  0.0761911\n",
            "  0.23108444 1.3057472  0.         1.338826   0.         0.\n",
            "  0.55357474 0.         0.68020386 0.         0.         0.\n",
            "  0.5709398  0.07277551 0.9860599  0.35817936 0.         0.\n",
            "  0.8181946  0.4284722  1.2946873  0.66224116 0.21923086 0.6381096\n",
            "  1.0850455  0.9492496  1.5860857  1.3745257  0.7133571  0.729687\n",
            "  0.4146913  0.         1.0863632  0.58391315 0.5187455  0.3906696\n",
            "  0.5336938  1.1808324  0.91704696 0.         0.30231673 0.5741994\n",
            "  0.23663887 0.32504964 0.31447288 0.         0.44609848 0.44879907\n",
            "  0.43169737 0.8275908  0.87606096 1.3328701 ]\n",
            " [0.70259655 0.         0.49098915 0.18400453 0.46158877 0.\n",
            "  1.0232084  1.0321397  0.98519844 0.         1.1595662  0.0761911\n",
            "  0.         1.4032944  0.         1.338826   0.         0.0985162\n",
            "  0.55048954 0.         0.6602432  0.         0.         0.\n",
            "  0.8850263  0.         0.7422052  0.01279477 0.         0.07503091\n",
            "  0.51445997 0.31875676 0.9382264  0.4842342  0.4039785  0.37522954\n",
            "  0.66397923 0.6758146  1.1043241  0.71480507 0.10481999 0.44047812\n",
            "  0.6844534  0.         1.320176   0.817257   0.7508822  0.8377077\n",
            "  0.07865905 1.1808324  0.90638006 0.         0.118441   0.30790073\n",
            "  0.2295768  0.04249731 0.         0.         0.5658072  0.18146324\n",
            "  0.43332925 1.1231074  0.65070957 1.336881  ]]\n"
          ]
        }
      ]
    },
    {
      "cell_type": "code",
      "execution_count": null,
      "metadata": {
        "colab": {
          "base_uri": "https://localhost:8080/"
        },
        "id": "pUkBSZNT84ZG",
        "outputId": "cdcc033e-70b6-4d34-e90c-92debd2dd3a9"
      },
      "outputs": [
        {
          "output_type": "stream",
          "name": "stdout",
          "text": [
            "Cloning into 'shap-e'...\n",
            "remote: Enumerating objects: 336, done.\u001b[K\n",
            "remote: Counting objects: 100% (260/260), done.\u001b[K\n",
            "remote: Compressing objects: 100% (241/241), done.\u001b[K\n",
            "remote: Total 336 (delta 41), reused 218 (delta 18), pack-reused 76 (from 1)\u001b[K\n",
            "Receiving objects: 100% (336/336), 11.72 MiB | 26.92 MiB/s, done.\n",
            "Resolving deltas: 100% (44/44), done.\n",
            "/content/shap-e/shap-e\n",
            "Obtaining file:///content/shap-e/shap-e\n",
            "  Preparing metadata (setup.py) ... \u001b[?25l\u001b[?25hdone\n",
            "Collecting clip@ git+https://github.com/openai/CLIP.git (from shap-e==0.0.0)\n",
            "  Cloning https://github.com/openai/CLIP.git to /tmp/pip-install-5szb3tk3/clip_f51732249e7c4a509909f610ac33fa08\n",
            "  Running command git clone --filter=blob:none --quiet https://github.com/openai/CLIP.git /tmp/pip-install-5szb3tk3/clip_f51732249e7c4a509909f610ac33fa08\n",
            "  Resolved https://github.com/openai/CLIP.git to commit dcba3cb2e2827b402d2701e7e1c7d9fed8a20ef1\n",
            "  Preparing metadata (setup.py) ... \u001b[?25l\u001b[?25hdone\n",
            "Requirement already satisfied: filelock in /usr/local/lib/python3.10/dist-packages (from shap-e==0.0.0) (3.16.1)\n",
            "Requirement already satisfied: Pillow in /usr/local/lib/python3.10/dist-packages (from shap-e==0.0.0) (11.1.0)\n",
            "Requirement already satisfied: torch in /usr/local/lib/python3.10/dist-packages (from shap-e==0.0.0) (2.5.1+cu121)\n",
            "Requirement already satisfied: fire in /usr/local/lib/python3.10/dist-packages (from shap-e==0.0.0) (0.7.0)\n",
            "Requirement already satisfied: humanize in /usr/local/lib/python3.10/dist-packages (from shap-e==0.0.0) (4.11.0)\n",
            "Requirement already satisfied: requests in /usr/local/lib/python3.10/dist-packages (from shap-e==0.0.0) (2.32.3)\n",
            "Requirement already satisfied: tqdm in /usr/local/lib/python3.10/dist-packages (from shap-e==0.0.0) (4.67.1)\n",
            "Requirement already satisfied: matplotlib in /usr/local/lib/python3.10/dist-packages (from shap-e==0.0.0) (3.10.0)\n",
            "Requirement already satisfied: scikit-image in /usr/local/lib/python3.10/dist-packages (from shap-e==0.0.0) (0.25.0)\n",
            "Requirement already satisfied: scipy in /usr/local/lib/python3.10/dist-packages (from shap-e==0.0.0) (1.13.1)\n",
            "Requirement already satisfied: numpy in /usr/local/lib/python3.10/dist-packages (from shap-e==0.0.0) (1.26.4)\n",
            "Requirement already satisfied: blobfile in /usr/local/lib/python3.10/dist-packages (from shap-e==0.0.0) (3.0.0)\n",
            "Requirement already satisfied: pycryptodomex>=3.8 in /usr/local/lib/python3.10/dist-packages (from blobfile->shap-e==0.0.0) (3.21.0)\n",
            "Requirement already satisfied: urllib3<3,>=1.25.3 in /usr/local/lib/python3.10/dist-packages (from blobfile->shap-e==0.0.0) (2.3.0)\n",
            "Requirement already satisfied: lxml>=4.9 in /usr/local/lib/python3.10/dist-packages (from blobfile->shap-e==0.0.0) (5.3.0)\n",
            "Requirement already satisfied: ftfy in /usr/local/lib/python3.10/dist-packages (from clip@ git+https://github.com/openai/CLIP.git->shap-e==0.0.0) (6.3.1)\n",
            "Requirement already satisfied: packaging in /usr/local/lib/python3.10/dist-packages (from clip@ git+https://github.com/openai/CLIP.git->shap-e==0.0.0) (24.2)\n",
            "Requirement already satisfied: regex in /usr/local/lib/python3.10/dist-packages (from clip@ git+https://github.com/openai/CLIP.git->shap-e==0.0.0) (2024.11.6)\n",
            "Requirement already satisfied: torchvision in /usr/local/lib/python3.10/dist-packages (from clip@ git+https://github.com/openai/CLIP.git->shap-e==0.0.0) (0.20.1+cu121)\n",
            "Requirement already satisfied: termcolor in /usr/local/lib/python3.10/dist-packages (from fire->shap-e==0.0.0) (2.5.0)\n",
            "Requirement already satisfied: contourpy>=1.0.1 in /usr/local/lib/python3.10/dist-packages (from matplotlib->shap-e==0.0.0) (1.3.1)\n",
            "Requirement already satisfied: cycler>=0.10 in /usr/local/lib/python3.10/dist-packages (from matplotlib->shap-e==0.0.0) (0.12.1)\n",
            "Requirement already satisfied: fonttools>=4.22.0 in /usr/local/lib/python3.10/dist-packages (from matplotlib->shap-e==0.0.0) (4.55.3)\n",
            "Requirement already satisfied: kiwisolver>=1.3.1 in /usr/local/lib/python3.10/dist-packages (from matplotlib->shap-e==0.0.0) (1.4.8)\n",
            "Requirement already satisfied: pyparsing>=2.3.1 in /usr/local/lib/python3.10/dist-packages (from matplotlib->shap-e==0.0.0) (3.2.1)\n",
            "Requirement already satisfied: python-dateutil>=2.7 in /usr/local/lib/python3.10/dist-packages (from matplotlib->shap-e==0.0.0) (2.8.2)\n",
            "Requirement already satisfied: charset-normalizer<4,>=2 in /usr/local/lib/python3.10/dist-packages (from requests->shap-e==0.0.0) (3.4.1)\n",
            "Requirement already satisfied: idna<4,>=2.5 in /usr/local/lib/python3.10/dist-packages (from requests->shap-e==0.0.0) (3.10)\n",
            "Requirement already satisfied: certifi>=2017.4.17 in /usr/local/lib/python3.10/dist-packages (from requests->shap-e==0.0.0) (2024.12.14)\n",
            "Requirement already satisfied: networkx>=3.0 in /usr/local/lib/python3.10/dist-packages (from scikit-image->shap-e==0.0.0) (3.4.2)\n",
            "Requirement already satisfied: imageio!=2.35.0,>=2.33 in /usr/local/lib/python3.10/dist-packages (from scikit-image->shap-e==0.0.0) (2.36.1)\n",
            "Requirement already satisfied: tifffile>=2022.8.12 in /usr/local/lib/python3.10/dist-packages (from scikit-image->shap-e==0.0.0) (2024.12.12)\n",
            "Requirement already satisfied: lazy-loader>=0.4 in /usr/local/lib/python3.10/dist-packages (from scikit-image->shap-e==0.0.0) (0.4)\n",
            "Requirement already satisfied: typing-extensions>=4.8.0 in /usr/local/lib/python3.10/dist-packages (from torch->shap-e==0.0.0) (4.12.2)\n",
            "Requirement already satisfied: jinja2 in /usr/local/lib/python3.10/dist-packages (from torch->shap-e==0.0.0) (3.1.5)\n",
            "Requirement already satisfied: fsspec in /usr/local/lib/python3.10/dist-packages (from torch->shap-e==0.0.0) (2024.10.0)\n",
            "Requirement already satisfied: sympy==1.13.1 in /usr/local/lib/python3.10/dist-packages (from torch->shap-e==0.0.0) (1.13.1)\n",
            "Requirement already satisfied: mpmath<1.4,>=1.1.0 in /usr/local/lib/python3.10/dist-packages (from sympy==1.13.1->torch->shap-e==0.0.0) (1.3.0)\n",
            "Requirement already satisfied: six>=1.5 in /usr/local/lib/python3.10/dist-packages (from python-dateutil>=2.7->matplotlib->shap-e==0.0.0) (1.17.0)\n",
            "Requirement already satisfied: wcwidth in /usr/local/lib/python3.10/dist-packages (from ftfy->clip@ git+https://github.com/openai/CLIP.git->shap-e==0.0.0) (0.2.13)\n",
            "Requirement already satisfied: MarkupSafe>=2.0 in /usr/local/lib/python3.10/dist-packages (from jinja2->torch->shap-e==0.0.0) (3.0.2)\n",
            "Installing collected packages: shap-e\n",
            "  Attempting uninstall: shap-e\n",
            "    Found existing installation: shap-e 0.0.0\n",
            "    Uninstalling shap-e-0.0.0:\n",
            "      Successfully uninstalled shap-e-0.0.0\n",
            "  Running setup.py develop for shap-e\n",
            "Successfully installed shap-e-0.0.0\n"
          ]
        }
      ],
      "source": [
        "!git clone https://github.com/openai/shap-e\n",
        "%cd shap-e\n",
        "!pip install -e .\n"
      ]
    },
    {
      "cell_type": "code",
      "execution_count": null,
      "metadata": {
        "id": "MWGR4fX__OGy"
      },
      "outputs": [],
      "source": [
        "import torch\n",
        "\n",
        "from shap_e.diffusion.sample import sample_latents\n",
        "from shap_e.diffusion.gaussian_diffusion import diffusion_from_config\n",
        "from shap_e.models.download import load_model, load_config\n",
        "from shap_e.util.notebooks import create_pan_cameras, decode_latent_images, gif_widget"
      ]
    },
    {
      "cell_type": "code",
      "execution_count": null,
      "metadata": {
        "id": "tpmiAtAT_QlW"
      },
      "outputs": [],
      "source": [
        "device = torch.device('cuda' if torch.cuda.is_available() else 'cpu')"
      ]
    },
    {
      "cell_type": "code",
      "execution_count": null,
      "metadata": {
        "colab": {
          "base_uri": "https://localhost:8080/"
        },
        "id": "PMhilu-O_T8M",
        "outputId": "ad328b02-5242-4976-84ee-20b1c854b193"
      },
      "outputs": [
        {
          "output_type": "stream",
          "name": "stderr",
          "text": [
            "/content/shap-e/shap_e/models/download.py:136: FutureWarning: You are using `torch.load` with `weights_only=False` (the current default value), which uses the default pickle module implicitly. It is possible to construct malicious pickle data which will execute arbitrary code during unpickling (See https://github.com/pytorch/pytorch/blob/main/SECURITY.md#untrusted-models for more details). In a future release, the default value for `weights_only` will be flipped to `True`. This limits the functions that could be executed during unpickling. Arbitrary objects will no longer be allowed to be loaded via this mode unless they are explicitly allowlisted by the user via `torch.serialization.add_safe_globals`. We recommend you start setting `weights_only=True` for any use case where you don't have full control of the loaded file. Please open an issue on GitHub for any issues related to this experimental feature.\n",
            "  return torch.load(path, map_location=device)\n"
          ]
        }
      ],
      "source": [
        "xm = load_model('transmitter', device=device)\n",
        "model = load_model('text300M', device=device)\n",
        "diffusion = diffusion_from_config(load_config('diffusion'))"
      ]
    },
    {
      "cell_type": "code",
      "execution_count": null,
      "metadata": {
        "colab": {
          "base_uri": "https://localhost:8080/",
          "height": 49,
          "referenced_widgets": [
            "6380d807765f4fd9b6a0dc54079cfe8b",
            "099ef2465fd745d0b037b25de3ceab1c",
            "3207c73b9a944b6baa553f9537bd2ff2",
            "809f90156eff42a5993323f4a5b33111",
            "e7d1623c3c38467c95b1eb30913a4c1f",
            "4b4d4da3e112412a8e6bd7715d60dac4",
            "75466268fa1a4e57a66f12c69bbb13a7",
            "ed4be006012e4fb79a79cec78c1c9de4",
            "3ace40b6ab4e40d0b30074acd961bfd3",
            "43f392f406ea476bbbb9c796bb9649b7",
            "de497561b32047d7b217a3c1a0983335"
          ]
        },
        "id": "Z7zhPVvENJ5v",
        "outputId": "d3dd2083-763f-4ecd-9936-5e983b903aec"
      },
      "outputs": [
        {
          "output_type": "display_data",
          "data": {
            "text/plain": [
              "  0%|          | 0/64 [00:00<?, ?it/s]"
            ],
            "application/vnd.jupyter.widget-view+json": {
              "version_major": 2,
              "version_minor": 0,
              "model_id": "6380d807765f4fd9b6a0dc54079cfe8b"
            }
          },
          "metadata": {}
        }
      ],
      "source": [
        "batch_size = 4\n",
        "guidance_scale = 15.0\n",
        "\n",
        "\n",
        "latents = sample_latents(\n",
        "    batch_size=batch_size,\n",
        "    model=model,\n",
        "    diffusion=diffusion,\n",
        "    guidance_scale=guidance_scale,\n",
        "    model_kwargs=dict(texts=[prompt] * batch_size),\n",
        "    progress=True,\n",
        "    clip_denoised=True,\n",
        "    use_fp16=True,\n",
        "    use_karras=True,\n",
        "    karras_steps=64,\n",
        "    sigma_min=1e-3,\n",
        "    sigma_max=160,\n",
        "    s_churn=0,\n",
        ")"
      ]
    },
    {
      "cell_type": "code",
      "execution_count": null,
      "metadata": {
        "id": "tTr5k3AANTVr",
        "colab": {
          "base_uri": "https://localhost:8080/",
          "height": 325,
          "referenced_widgets": [
            "165ba6500dba49f1ab299bb6734d35af",
            "878fe00772e043a7826d6bb8067cf093",
            "1abf7493dae545f9a7ebd727a051a929",
            "cc4023c8aa21499bb7bbefffce75efa9",
            "dd862ecfc413459a86c9b1e6e56238a9",
            "0e2d39db39b04cbd835ff394c64e00e6",
            "edbe69c21cc848869b543495e4f28b2d",
            "520467d4a7b245c38ae0e4ee97e4848e",
            "513318b99e25459e8f616a72d59fe6b4",
            "0c54278b6d7d474391d5ef971cdb344d",
            "78ecca561e614e95be4dd985867daffa",
            "86740bf66ff24824b3eca76f1bf35ee4"
          ]
        },
        "outputId": "1d234766-d7aa-4cc9-8a13-adae975e72af"
      },
      "outputs": [
        {
          "output_type": "display_data",
          "data": {
            "text/plain": [
              "HTML(value='<img src=\"data:image/gif;base64,R0lGODlhQABAAIcAAF83C142C102C102Cl41C101C1w1C1w1Cls1C1s1Cls0Clo0Cl…"
            ],
            "application/vnd.jupyter.widget-view+json": {
              "version_major": 2,
              "version_minor": 0,
              "model_id": "165ba6500dba49f1ab299bb6734d35af"
            }
          },
          "metadata": {}
        },
        {
          "output_type": "display_data",
          "data": {
            "text/plain": [
              "HTML(value='<img src=\"data:image/gif;base64,R0lGODlhQABAAIYAAFU1A1Q0AVM1BFM1A1M1AlM1AVM1AFM0BFM0AlI1BFI1A1I1Al…"
            ],
            "application/vnd.jupyter.widget-view+json": {
              "version_major": 2,
              "version_minor": 0,
              "model_id": "cc4023c8aa21499bb7bbefffce75efa9"
            }
          },
          "metadata": {}
        },
        {
          "output_type": "display_data",
          "data": {
            "text/plain": [
              "HTML(value='<img src=\"data:image/gif;base64,R0lGODlhQABAAIcAAF0/AF89AF49AF09AFs9AF88AF48AV48AF08AFw8AFs8AFo8AV…"
            ],
            "application/vnd.jupyter.widget-view+json": {
              "version_major": 2,
              "version_minor": 0,
              "model_id": "edbe69c21cc848869b543495e4f28b2d"
            }
          },
          "metadata": {}
        },
        {
          "output_type": "display_data",
          "data": {
            "text/plain": [
              "HTML(value='<img src=\"data:image/gif;base64,R0lGODlhQABAAIcAAF45Il05Il04Il04IVw4IFw4H1s4H1w3IFw3H1s3IFs3H1s3Hl…"
            ],
            "application/vnd.jupyter.widget-view+json": {
              "version_major": 2,
              "version_minor": 0,
              "model_id": "0c54278b6d7d474391d5ef971cdb344d"
            }
          },
          "metadata": {}
        }
      ],
      "source": [
        "render_mode = 'nerf' # you can change this to 'stf'\n",
        "size = 128 # this is the size of the renders, higher values take longer to render.\n",
        "\n",
        "cameras = create_pan_cameras(size, device)\n",
        "for i, latent in enumerate(latents):\n",
        "    images = decode_latent_images(xm, latent, cameras, rendering_mode=render_mode)\n",
        "    display(gif_widget(images))"
      ]
    },
    {
      "cell_type": "code",
      "execution_count": null,
      "metadata": {
        "id": "oWxm1XjpNVaU",
        "colab": {
          "base_uri": "https://localhost:8080/"
        },
        "outputId": "1a815664-f571-4235-c6f6-5ccb1cd7d78b"
      },
      "outputs": [
        {
          "output_type": "stream",
          "name": "stderr",
          "text": [
            "/content/shap-e/shap_e/models/stf/renderer.py:286: UserWarning: exception rendering with PyTorch3D: No module named 'pytorch3d'\n",
            "  warnings.warn(f\"exception rendering with PyTorch3D: {exc}\")\n",
            "/content/shap-e/shap_e/models/stf/renderer.py:287: UserWarning: falling back on native PyTorch renderer, which does not support full gradients\n",
            "  warnings.warn(\n"
          ]
        }
      ],
      "source": [
        "\n",
        "# Example of saving the latents as meshes.\n",
        "from shap_e.util.notebooks import decode_latent_mesh\n",
        "\n",
        "for i, latent in enumerate(latents):\n",
        "    t = decode_latent_mesh(xm, latent).tri_mesh()\n",
        "    with open(f'example_mesh_{i}.ply', 'wb') as f:\n",
        "        t.write_ply(f)\n",
        "    with open(f'example_mesh_{i}.obj', 'w') as f:\n",
        "        t.write_obj(f)"
      ]
    },
    {
      "cell_type": "code",
      "source": [
        "\n",
        "!python benchmark.py"
      ],
      "metadata": {
        "colab": {
          "base_uri": "https://localhost:8080/"
        },
        "id": "rNcx_bPKmOP2",
        "outputId": "3b700426-a5d2-4896-8b52-da38dd56f710"
      },
      "execution_count": null,
      "outputs": [
        {
          "output_type": "stream",
          "name": "stdout",
          "text": [
            "Starting AI model benchmark...\n",
            "Initializing model...\n",
            "Loading dataset...\n",
            "Running inference...\n",
            "Calculating metrics...\n",
            "\n",
            "Benchmark Progress:\n",
            "\n",
            "^C\n"
          ]
        }
      ]
    }
  ],
  "metadata": {
    "colab": {
      "provenance": [],
      "gpuType": "T4",
      "include_colab_link": true
    },
    "kernelspec": {
      "display_name": "Python 3",
      "name": "python3"
    },
    "language_info": {
      "name": "python"
    },
    "widgets": {
      "application/vnd.jupyter.widget-state+json": {
        "165ba6500dba49f1ab299bb6734d35af": {
          "model_module": "@jupyter-widgets/controls",
          "model_name": "HTMLModel",
          "model_module_version": "1.5.0",
          "state": {
            "_dom_classes": [],
            "_model_module": "@jupyter-widgets/controls",
            "_model_module_version": "1.5.0",
            "_model_name": "HTMLModel",
            "_view_count": null,
            "_view_module": "@jupyter-widgets/controls",
            "_view_module_version": "1.5.0",
            "_view_name": "HTMLView",
            "description": "",
            "description_tooltip": null,
            "layout": "IPY_MODEL_878fe00772e043a7826d6bb8067cf093",
            "placeholder": "​",
            "style": "IPY_MODEL_1abf7493dae545f9a7ebd727a051a929",
            "value": "<img src=\"data:image/gif;base64,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\" />"
          }
        },
        "878fe00772e043a7826d6bb8067cf093": {
          "model_module": "@jupyter-widgets/base",
          "model_name": "LayoutModel",
          "model_module_version": "1.2.0",
          "state": {
            "_model_module": "@jupyter-widgets/base",
            "_model_module_version": "1.2.0",
            "_model_name": "LayoutModel",
            "_view_count": null,
            "_view_module": "@jupyter-widgets/base",
            "_view_module_version": "1.2.0",
            "_view_name": "LayoutView",
            "align_content": null,
            "align_items": null,
            "align_self": null,
            "border": null,
            "bottom": null,
            "display": null,
            "flex": null,
            "flex_flow": null,
            "grid_area": null,
            "grid_auto_columns": null,
            "grid_auto_flow": null,
            "grid_auto_rows": null,
            "grid_column": null,
            "grid_gap": null,
            "grid_row": null,
            "grid_template_areas": null,
            "grid_template_columns": null,
            "grid_template_rows": null,
            "height": null,
            "justify_content": null,
            "justify_items": null,
            "left": null,
            "margin": null,
            "max_height": null,
            "max_width": null,
            "min_height": null,
            "min_width": null,
            "object_fit": null,
            "object_position": null,
            "order": null,
            "overflow": null,
            "overflow_x": null,
            "overflow_y": null,
            "padding": null,
            "right": null,
            "top": null,
            "visibility": null,
            "width": null
          }
        },
        "1abf7493dae545f9a7ebd727a051a929": {
          "model_module": "@jupyter-widgets/controls",
          "model_name": "DescriptionStyleModel",
          "model_module_version": "1.5.0",
          "state": {
            "_model_module": "@jupyter-widgets/controls",
            "_model_module_version": "1.5.0",
            "_model_name": "DescriptionStyleModel",
            "_view_count": null,
            "_view_module": "@jupyter-widgets/base",
            "_view_module_version": "1.2.0",
            "_view_name": "StyleView",
            "description_width": ""
          }
        },
        "cc4023c8aa21499bb7bbefffce75efa9": {
          "model_module": "@jupyter-widgets/controls",
          "model_name": "HTMLModel",
          "model_module_version": "1.5.0",
          "state": {
            "_dom_classes": [],
            "_model_module": "@jupyter-widgets/controls",
            "_model_module_version": "1.5.0",
            "_model_name": "HTMLModel",
            "_view_count": null,
            "_view_module": "@jupyter-widgets/controls",
            "_view_module_version": "1.5.0",
            "_view_name": "HTMLView",
            "description": "",
            "description_tooltip": null,
            "layout": "IPY_MODEL_dd862ecfc413459a86c9b1e6e56238a9",
            "placeholder": "​",
            "style": "IPY_MODEL_0e2d39db39b04cbd835ff394c64e00e6",
            "value": "<img src=\"data:image/gif;base64,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\" />"
          }
        },
        "dd862ecfc413459a86c9b1e6e56238a9": {
          "model_module": "@jupyter-widgets/base",
          "model_name": "LayoutModel",
          "model_module_version": "1.2.0",
          "state": {
            "_model_module": "@jupyter-widgets/base",
            "_model_module_version": "1.2.0",
            "_model_name": "LayoutModel",
            "_view_count": null,
            "_view_module": "@jupyter-widgets/base",
            "_view_module_version": "1.2.0",
            "_view_name": "LayoutView",
            "align_content": null,
            "align_items": null,
            "align_self": null,
            "border": null,
            "bottom": null,
            "display": null,
            "flex": null,
            "flex_flow": null,
            "grid_area": null,
            "grid_auto_columns": null,
            "grid_auto_flow": null,
            "grid_auto_rows": null,
            "grid_column": null,
            "grid_gap": null,
            "grid_row": null,
            "grid_template_areas": null,
            "grid_template_columns": null,
            "grid_template_rows": null,
            "height": null,
            "justify_content": null,
            "justify_items": null,
            "left": null,
            "margin": null,
            "max_height": null,
            "max_width": null,
            "min_height": null,
            "min_width": null,
            "object_fit": null,
            "object_position": null,
            "order": null,
            "overflow": null,
            "overflow_x": null,
            "overflow_y": null,
            "padding": null,
            "right": null,
            "top": null,
            "visibility": null,
            "width": null
          }
        },
        "0e2d39db39b04cbd835ff394c64e00e6": {
          "model_module": "@jupyter-widgets/controls",
          "model_name": "DescriptionStyleModel",
          "model_module_version": "1.5.0",
          "state": {
            "_model_module": "@jupyter-widgets/controls",
            "_model_module_version": "1.5.0",
            "_model_name": "DescriptionStyleModel",
            "_view_count": null,
            "_view_module": "@jupyter-widgets/base",
            "_view_module_version": "1.2.0",
            "_view_name": "StyleView",
            "description_width": ""
          }
        },
        "edbe69c21cc848869b543495e4f28b2d": {
          "model_module": "@jupyter-widgets/controls",
          "model_name": "HTMLModel",
          "model_module_version": "1.5.0",
          "state": {
            "_dom_classes": [],
            "_model_module": "@jupyter-widgets/controls",
            "_model_module_version": "1.5.0",
            "_model_name": "HTMLModel",
            "_view_count": null,
            "_view_module": "@jupyter-widgets/controls",
            "_view_module_version": "1.5.0",
            "_view_name": "HTMLView",
            "description": "",
            "description_tooltip": null,
            "layout": "IPY_MODEL_520467d4a7b245c38ae0e4ee97e4848e",
            "placeholder": "​",
            "style": "IPY_MODEL_513318b99e25459e8f616a72d59fe6b4",
            "value": "<img src=\"data:image/gif;base64,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\" />"
          }
        },
        "520467d4a7b245c38ae0e4ee97e4848e": {
          "model_module": "@jupyter-widgets/base",
          "model_name": "LayoutModel",
          "model_module_version": "1.2.0",
          "state": {
            "_model_module": "@jupyter-widgets/base",
            "_model_module_version": "1.2.0",
            "_model_name": "LayoutModel",
            "_view_count": null,
            "_view_module": "@jupyter-widgets/base",
            "_view_module_version": "1.2.0",
            "_view_name": "LayoutView",
            "align_content": null,
            "align_items": null,
            "align_self": null,
            "border": null,
            "bottom": null,
            "display": null,
            "flex": null,
            "flex_flow": null,
            "grid_area": null,
            "grid_auto_columns": null,
            "grid_auto_flow": null,
            "grid_auto_rows": null,
            "grid_column": null,
            "grid_gap": null,
            "grid_row": null,
            "grid_template_areas": null,
            "grid_template_columns": null,
            "grid_template_rows": null,
            "height": null,
            "justify_content": null,
            "justify_items": null,
            "left": null,
            "margin": null,
            "max_height": null,
            "max_width": null,
            "min_height": null,
            "min_width": null,
            "object_fit": null,
            "object_position": null,
            "order": null,
            "overflow": null,
            "overflow_x": null,
            "overflow_y": null,
            "padding": null,
            "right": null,
            "top": null,
            "visibility": null,
            "width": null
          }
        },
        "513318b99e25459e8f616a72d59fe6b4": {
          "model_module": "@jupyter-widgets/controls",
          "model_name": "DescriptionStyleModel",
          "model_module_version": "1.5.0",
          "state": {
            "_model_module": "@jupyter-widgets/controls",
            "_model_module_version": "1.5.0",
            "_model_name": "DescriptionStyleModel",
            "_view_count": null,
            "_view_module": "@jupyter-widgets/base",
            "_view_module_version": "1.2.0",
            "_view_name": "StyleView",
            "description_width": ""
          }
        },
        "0c54278b6d7d474391d5ef971cdb344d": {
          "model_module": "@jupyter-widgets/controls",
          "model_name": "HTMLModel",
          "model_module_version": "1.5.0",
          "state": {
            "_dom_classes": [],
            "_model_module": "@jupyter-widgets/controls",
            "_model_module_version": "1.5.0",
            "_model_name": "HTMLModel",
            "_view_count": null,
            "_view_module": "@jupyter-widgets/controls",
            "_view_module_version": "1.5.0",
            "_view_name": "HTMLView",
            "description": "",
            "description_tooltip": null,
            "layout": "IPY_MODEL_78ecca561e614e95be4dd985867daffa",
            "placeholder": "​",
            "style": "IPY_MODEL_86740bf66ff24824b3eca76f1bf35ee4",
            "value": "<img src=\"data:image/gif;base64,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\" />"
          }
        },
        "78ecca561e614e95be4dd985867daffa": {
          "model_module": "@jupyter-widgets/base",
          "model_name": "LayoutModel",
          "model_module_version": "1.2.0",
          "state": {
            "_model_module": "@jupyter-widgets/base",
            "_model_module_version": "1.2.0",
            "_model_name": "LayoutModel",
            "_view_count": null,
            "_view_module": "@jupyter-widgets/base",
            "_view_module_version": "1.2.0",
            "_view_name": "LayoutView",
            "align_content": null,
            "align_items": null,
            "align_self": null,
            "border": null,
            "bottom": null,
            "display": null,
            "flex": null,
            "flex_flow": null,
            "grid_area": null,
            "grid_auto_columns": null,
            "grid_auto_flow": null,
            "grid_auto_rows": null,
            "grid_column": null,
            "grid_gap": null,
            "grid_row": null,
            "grid_template_areas": null,
            "grid_template_columns": null,
            "grid_template_rows": null,
            "height": null,
            "justify_content": null,
            "justify_items": null,
            "left": null,
            "margin": null,
            "max_height": null,
            "max_width": null,
            "min_height": null,
            "min_width": null,
            "object_fit": null,
            "object_position": null,
            "order": null,
            "overflow": null,
            "overflow_x": null,
            "overflow_y": null,
            "padding": null,
            "right": null,
            "top": null,
            "visibility": null,
            "width": null
          }
        },
        "86740bf66ff24824b3eca76f1bf35ee4": {
          "model_module": "@jupyter-widgets/controls",
          "model_name": "DescriptionStyleModel",
          "model_module_version": "1.5.0",
          "state": {
            "_model_module": "@jupyter-widgets/controls",
            "_model_module_version": "1.5.0",
            "_model_name": "DescriptionStyleModel",
            "_view_count": null,
            "_view_module": "@jupyter-widgets/base",
            "_view_module_version": "1.2.0",
            "_view_name": "StyleView",
            "description_width": ""
          }
        },
        "6380d807765f4fd9b6a0dc54079cfe8b": {
          "model_module": "@jupyter-widgets/controls",
          "model_name": "HBoxModel",
          "model_module_version": "1.5.0",
          "state": {
            "_dom_classes": [],
            "_model_module": "@jupyter-widgets/controls",
            "_model_module_version": "1.5.0",
            "_model_name": "HBoxModel",
            "_view_count": null,
            "_view_module": "@jupyter-widgets/controls",
            "_view_module_version": "1.5.0",
            "_view_name": "HBoxView",
            "box_style": "",
            "children": [
              "IPY_MODEL_099ef2465fd745d0b037b25de3ceab1c",
              "IPY_MODEL_3207c73b9a944b6baa553f9537bd2ff2",
              "IPY_MODEL_809f90156eff42a5993323f4a5b33111"
            ],
            "layout": "IPY_MODEL_e7d1623c3c38467c95b1eb30913a4c1f"
          }
        },
        "099ef2465fd745d0b037b25de3ceab1c": {
          "model_module": "@jupyter-widgets/controls",
          "model_name": "HTMLModel",
          "model_module_version": "1.5.0",
          "state": {
            "_dom_classes": [],
            "_model_module": "@jupyter-widgets/controls",
            "_model_module_version": "1.5.0",
            "_model_name": "HTMLModel",
            "_view_count": null,
            "_view_module": "@jupyter-widgets/controls",
            "_view_module_version": "1.5.0",
            "_view_name": "HTMLView",
            "description": "",
            "description_tooltip": null,
            "layout": "IPY_MODEL_4b4d4da3e112412a8e6bd7715d60dac4",
            "placeholder": "​",
            "style": "IPY_MODEL_75466268fa1a4e57a66f12c69bbb13a7",
            "value": "100%"
          }
        },
        "3207c73b9a944b6baa553f9537bd2ff2": {
          "model_module": "@jupyter-widgets/controls",
          "model_name": "FloatProgressModel",
          "model_module_version": "1.5.0",
          "state": {
            "_dom_classes": [],
            "_model_module": "@jupyter-widgets/controls",
            "_model_module_version": "1.5.0",
            "_model_name": "FloatProgressModel",
            "_view_count": null,
            "_view_module": "@jupyter-widgets/controls",
            "_view_module_version": "1.5.0",
            "_view_name": "ProgressView",
            "bar_style": "success",
            "description": "",
            "description_tooltip": null,
            "layout": "IPY_MODEL_ed4be006012e4fb79a79cec78c1c9de4",
            "max": 64,
            "min": 0,
            "orientation": "horizontal",
            "style": "IPY_MODEL_3ace40b6ab4e40d0b30074acd961bfd3",
            "value": 64
          }
        },
        "809f90156eff42a5993323f4a5b33111": {
          "model_module": "@jupyter-widgets/controls",
          "model_name": "HTMLModel",
          "model_module_version": "1.5.0",
          "state": {
            "_dom_classes": [],
            "_model_module": "@jupyter-widgets/controls",
            "_model_module_version": "1.5.0",
            "_model_name": "HTMLModel",
            "_view_count": null,
            "_view_module": "@jupyter-widgets/controls",
            "_view_module_version": "1.5.0",
            "_view_name": "HTMLView",
            "description": "",
            "description_tooltip": null,
            "layout": "IPY_MODEL_43f392f406ea476bbbb9c796bb9649b7",
            "placeholder": "​",
            "style": "IPY_MODEL_de497561b32047d7b217a3c1a0983335",
            "value": " 64/64 [01:58&lt;00:00,  1.59s/it]"
          }
        },
        "e7d1623c3c38467c95b1eb30913a4c1f": {
          "model_module": "@jupyter-widgets/base",
          "model_name": "LayoutModel",
          "model_module_version": "1.2.0",
          "state": {
            "_model_module": "@jupyter-widgets/base",
            "_model_module_version": "1.2.0",
            "_model_name": "LayoutModel",
            "_view_count": null,
            "_view_module": "@jupyter-widgets/base",
            "_view_module_version": "1.2.0",
            "_view_name": "LayoutView",
            "align_content": null,
            "align_items": null,
            "align_self": null,
            "border": null,
            "bottom": null,
            "display": null,
            "flex": null,
            "flex_flow": null,
            "grid_area": null,
            "grid_auto_columns": null,
            "grid_auto_flow": null,
            "grid_auto_rows": null,
            "grid_column": null,
            "grid_gap": null,
            "grid_row": null,
            "grid_template_areas": null,
            "grid_template_columns": null,
            "grid_template_rows": null,
            "height": null,
            "justify_content": null,
            "justify_items": null,
            "left": null,
            "margin": null,
            "max_height": null,
            "max_width": null,
            "min_height": null,
            "min_width": null,
            "object_fit": null,
            "object_position": null,
            "order": null,
            "overflow": null,
            "overflow_x": null,
            "overflow_y": null,
            "padding": null,
            "right": null,
            "top": null,
            "visibility": null,
            "width": null
          }
        },
        "4b4d4da3e112412a8e6bd7715d60dac4": {
          "model_module": "@jupyter-widgets/base",
          "model_name": "LayoutModel",
          "model_module_version": "1.2.0",
          "state": {
            "_model_module": "@jupyter-widgets/base",
            "_model_module_version": "1.2.0",
            "_model_name": "LayoutModel",
            "_view_count": null,
            "_view_module": "@jupyter-widgets/base",
            "_view_module_version": "1.2.0",
            "_view_name": "LayoutView",
            "align_content": null,
            "align_items": null,
            "align_self": null,
            "border": null,
            "bottom": null,
            "display": null,
            "flex": null,
            "flex_flow": null,
            "grid_area": null,
            "grid_auto_columns": null,
            "grid_auto_flow": null,
            "grid_auto_rows": null,
            "grid_column": null,
            "grid_gap": null,
            "grid_row": null,
            "grid_template_areas": null,
            "grid_template_columns": null,
            "grid_template_rows": null,
            "height": null,
            "justify_content": null,
            "justify_items": null,
            "left": null,
            "margin": null,
            "max_height": null,
            "max_width": null,
            "min_height": null,
            "min_width": null,
            "object_fit": null,
            "object_position": null,
            "order": null,
            "overflow": null,
            "overflow_x": null,
            "overflow_y": null,
            "padding": null,
            "right": null,
            "top": null,
            "visibility": null,
            "width": null
          }
        },
        "75466268fa1a4e57a66f12c69bbb13a7": {
          "model_module": "@jupyter-widgets/controls",
          "model_name": "DescriptionStyleModel",
          "model_module_version": "1.5.0",
          "state": {
            "_model_module": "@jupyter-widgets/controls",
            "_model_module_version": "1.5.0",
            "_model_name": "DescriptionStyleModel",
            "_view_count": null,
            "_view_module": "@jupyter-widgets/base",
            "_view_module_version": "1.2.0",
            "_view_name": "StyleView",
            "description_width": ""
          }
        },
        "ed4be006012e4fb79a79cec78c1c9de4": {
          "model_module": "@jupyter-widgets/base",
          "model_name": "LayoutModel",
          "model_module_version": "1.2.0",
          "state": {
            "_model_module": "@jupyter-widgets/base",
            "_model_module_version": "1.2.0",
            "_model_name": "LayoutModel",
            "_view_count": null,
            "_view_module": "@jupyter-widgets/base",
            "_view_module_version": "1.2.0",
            "_view_name": "LayoutView",
            "align_content": null,
            "align_items": null,
            "align_self": null,
            "border": null,
            "bottom": null,
            "display": null,
            "flex": null,
            "flex_flow": null,
            "grid_area": null,
            "grid_auto_columns": null,
            "grid_auto_flow": null,
            "grid_auto_rows": null,
            "grid_column": null,
            "grid_gap": null,
            "grid_row": null,
            "grid_template_areas": null,
            "grid_template_columns": null,
            "grid_template_rows": null,
            "height": null,
            "justify_content": null,
            "justify_items": null,
            "left": null,
            "margin": null,
            "max_height": null,
            "max_width": null,
            "min_height": null,
            "min_width": null,
            "object_fit": null,
            "object_position": null,
            "order": null,
            "overflow": null,
            "overflow_x": null,
            "overflow_y": null,
            "padding": null,
            "right": null,
            "top": null,
            "visibility": null,
            "width": null
          }
        },
        "3ace40b6ab4e40d0b30074acd961bfd3": {
          "model_module": "@jupyter-widgets/controls",
          "model_name": "ProgressStyleModel",
          "model_module_version": "1.5.0",
          "state": {
            "_model_module": "@jupyter-widgets/controls",
            "_model_module_version": "1.5.0",
            "_model_name": "ProgressStyleModel",
            "_view_count": null,
            "_view_module": "@jupyter-widgets/base",
            "_view_module_version": "1.2.0",
            "_view_name": "StyleView",
            "bar_color": null,
            "description_width": ""
          }
        },
        "43f392f406ea476bbbb9c796bb9649b7": {
          "model_module": "@jupyter-widgets/base",
          "model_name": "LayoutModel",
          "model_module_version": "1.2.0",
          "state": {
            "_model_module": "@jupyter-widgets/base",
            "_model_module_version": "1.2.0",
            "_model_name": "LayoutModel",
            "_view_count": null,
            "_view_module": "@jupyter-widgets/base",
            "_view_module_version": "1.2.0",
            "_view_name": "LayoutView",
            "align_content": null,
            "align_items": null,
            "align_self": null,
            "border": null,
            "bottom": null,
            "display": null,
            "flex": null,
            "flex_flow": null,
            "grid_area": null,
            "grid_auto_columns": null,
            "grid_auto_flow": null,
            "grid_auto_rows": null,
            "grid_column": null,
            "grid_gap": null,
            "grid_row": null,
            "grid_template_areas": null,
            "grid_template_columns": null,
            "grid_template_rows": null,
            "height": null,
            "justify_content": null,
            "justify_items": null,
            "left": null,
            "margin": null,
            "max_height": null,
            "max_width": null,
            "min_height": null,
            "min_width": null,
            "object_fit": null,
            "object_position": null,
            "order": null,
            "overflow": null,
            "overflow_x": null,
            "overflow_y": null,
            "padding": null,
            "right": null,
            "top": null,
            "visibility": null,
            "width": null
          }
        },
        "de497561b32047d7b217a3c1a0983335": {
          "model_module": "@jupyter-widgets/controls",
          "model_name": "DescriptionStyleModel",
          "model_module_version": "1.5.0",
          "state": {
            "_model_module": "@jupyter-widgets/controls",
            "_model_module_version": "1.5.0",
            "_model_name": "DescriptionStyleModel",
            "_view_count": null,
            "_view_module": "@jupyter-widgets/base",
            "_view_module_version": "1.2.0",
            "_view_name": "StyleView",
            "description_width": ""
          }
        }
      }
    },
    "accelerator": "GPU"
  },
  "nbformat": 4,
  "nbformat_minor": 0
}